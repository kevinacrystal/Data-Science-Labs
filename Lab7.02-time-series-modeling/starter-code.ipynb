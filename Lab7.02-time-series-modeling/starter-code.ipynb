{
 "cells": [
  {
   "cell_type": "markdown",
   "metadata": {},
   "source": [
    "<img src=\"http://imgur.com/1ZcRyrc.png\" style=\"float: left; margin: 20px; height: 55px\">\n",
    "\n",
    "# ARIMA Lab  \n",
    "\n",
    "\n",
    "*Authors:*\n",
    " - Joseph Nelson (DC)      \n",
    " - Boom Devahastin Na Ayudhya  (NYC)   \n",
    " - Bethany Poulin (Boston) \n",
    "\n",
    "\n",
    "\n",
    "---"
   ]
  },
  {
   "cell_type": "markdown",
   "metadata": {},
   "source": [
    "## Introduction\n",
    "\n",
    "\n",
    "The most common application for AR, ARMA, and ARIMA models is inventory planning. Planning inventory for a small shop can be difficult enough, but you've just been hired to plan inventory for a _big_ store - Walmart.\n",
    "\n",
    "In this lab, you will be analyzing weekly Walmart sales data over a two year period from 2010 to 2012. The data is separated by store and by department, but you should focus on analyzing one store for simplicity. Your supervisor has set out the following goals for this project:\n",
    "\n",
    "1. Record any observed trends in the data.\n",
    "2. Produce a trained model to predict future sales numbers.\n",
    "3. Include useful AND COMMENT ON how graphs (ACF, PACF) impact your modelling decisions throughout your notebook.\n",
    "\n",
    "Try your best to tune your model. It can be difficult, but don't worry - time series analysis is a difficult and specialized topic.\n",
    "\n",
    "## Exercise\n",
    "---\n",
    "\n",
    "#### Requirements\n",
    "\n",
    "- Assemble observations and graphs as well as timeseries models in a notebook.\n",
    "\n",
    "\n",
    "#### Additional Resources\n",
    "\n",
    "1. [ARMA Example](https://www.statsmodels.org/dev/examples/notebooks/generated/tsa_arma_0.html)\n",
    "2. [ARMA Models for TSA](https://www.quantstart.com/articles/Autoregressive-Moving-Average-ARMA-p-q-Models-for-Time-Series-Analysis-Part-1)\n",
    "\n",
    "#### Things to Consider\n",
    "\n",
    "You should always be looking for ways to reduce redundancy in your code, improve consistency in your output, and make it easier for others to follow your work! Functions are a huge part of this endeavor!\n",
    "\n",
    "While working on this lab, you may try a number of $p$, $q$, and $d$ values to best account for your data. Because you will likely be repeating yourself, it is useful to create functions that declutter your workspace.\n",
    "\n",
    " - You may want to create a wrapper around the Augmented Dickey-Fuller test to provide both results and context for the output.\n",
    " - You may find value in a combined ACF & PACF function.\n",
    " - You may find it cleaner to build a function to make residual graphs and print out MSE all at once."
   ]
  },
  {
   "cell_type": "markdown",
   "metadata": {},
   "source": [
    "### Importing Necessary Libraries & Loading Data"
   ]
  },
  {
   "cell_type": "code",
   "execution_count": 1,
   "metadata": {},
   "outputs": [
    {
     "data": {
      "text/html": [
       "<div>\n",
       "<style scoped>\n",
       "    .dataframe tbody tr th:only-of-type {\n",
       "        vertical-align: middle;\n",
       "    }\n",
       "\n",
       "    .dataframe tbody tr th {\n",
       "        vertical-align: top;\n",
       "    }\n",
       "\n",
       "    .dataframe thead th {\n",
       "        text-align: right;\n",
       "    }\n",
       "</style>\n",
       "<table border=\"1\" class=\"dataframe\">\n",
       "  <thead>\n",
       "    <tr style=\"text-align: right;\">\n",
       "      <th></th>\n",
       "      <th>Store</th>\n",
       "      <th>Dept</th>\n",
       "      <th>Weekly_Sales</th>\n",
       "      <th>IsHoliday</th>\n",
       "    </tr>\n",
       "    <tr>\n",
       "      <th>Date</th>\n",
       "      <th></th>\n",
       "      <th></th>\n",
       "      <th></th>\n",
       "      <th></th>\n",
       "    </tr>\n",
       "  </thead>\n",
       "  <tbody>\n",
       "    <tr>\n",
       "      <th>2010-02-05</th>\n",
       "      <td>1</td>\n",
       "      <td>1</td>\n",
       "      <td>24924.50</td>\n",
       "      <td>False</td>\n",
       "    </tr>\n",
       "    <tr>\n",
       "      <th>2010-02-12</th>\n",
       "      <td>1</td>\n",
       "      <td>1</td>\n",
       "      <td>46039.49</td>\n",
       "      <td>True</td>\n",
       "    </tr>\n",
       "    <tr>\n",
       "      <th>2010-02-19</th>\n",
       "      <td>1</td>\n",
       "      <td>1</td>\n",
       "      <td>41595.55</td>\n",
       "      <td>False</td>\n",
       "    </tr>\n",
       "    <tr>\n",
       "      <th>2010-02-26</th>\n",
       "      <td>1</td>\n",
       "      <td>1</td>\n",
       "      <td>19403.54</td>\n",
       "      <td>False</td>\n",
       "    </tr>\n",
       "    <tr>\n",
       "      <th>2010-03-05</th>\n",
       "      <td>1</td>\n",
       "      <td>1</td>\n",
       "      <td>21827.90</td>\n",
       "      <td>False</td>\n",
       "    </tr>\n",
       "  </tbody>\n",
       "</table>\n",
       "</div>"
      ],
      "text/plain": [
       "            Store  Dept  Weekly_Sales  IsHoliday\n",
       "Date                                            \n",
       "2010-02-05      1     1      24924.50      False\n",
       "2010-02-12      1     1      46039.49       True\n",
       "2010-02-19      1     1      41595.55      False\n",
       "2010-02-26      1     1      19403.54      False\n",
       "2010-03-05      1     1      21827.90      False"
      ]
     },
     "execution_count": 1,
     "metadata": {},
     "output_type": "execute_result"
    }
   ],
   "source": [
    "import pandas as pd\n",
    "import numpy as np\n",
    "import matplotlib.pyplot as plt\n",
    "import seaborn as sns\n",
    "\n",
    "from statsmodels.tsa.arima_model import ARIMA, ARMA, AR\n",
    "from sklearn.metrics import mean_absolute_error, mean_squared_error\n",
    "from statsmodels.tsa.stattools import adfuller  \n",
    "\n",
    "%matplotlib inline\n",
    "\n",
    "import warnings\n",
    "warnings.simplefilter(action=\"ignore\")\n",
    "\n",
    "data = pd.read_csv('./datasets/train.csv')\n",
    "data.set_index('Date', inplace=True)\n",
    "data.head()"
   ]
  },
  {
   "cell_type": "markdown",
   "metadata": {},
   "source": [
    "## Exploratory Analysis"
   ]
  },
  {
   "cell_type": "markdown",
   "metadata": {},
   "source": [
    "#### 0. Preprocessing Data\n",
    "It's always a good idea to evaluate the current state of your data. For every set of data this means something different. But the bare minimum is understanding what types of data you have, knowing if there are missing values and checking to be sure that your date column (or index) is in a proper date format.\n",
    "\n",
    "Accordingly you should check:\n",
    " - Format of date column/index\n",
    " - Data types for each column\n",
    " - Whether or not we will have to deal with missing data"
   ]
  },
  {
   "cell_type": "code",
   "execution_count": 2,
   "metadata": {},
   "outputs": [
    {
     "data": {
      "text/plain": [
       "False"
      ]
     },
     "execution_count": 2,
     "metadata": {},
     "output_type": "execute_result"
    }
   ],
   "source": [
    "isinstance(data.index, pd.DatetimeIndex)"
   ]
  },
  {
   "cell_type": "code",
   "execution_count": 3,
   "metadata": {},
   "outputs": [],
   "source": [
    "data.index = pd.to_datetime(data.index)"
   ]
  },
  {
   "cell_type": "code",
   "execution_count": 4,
   "metadata": {},
   "outputs": [
    {
     "data": {
      "text/plain": [
       "True"
      ]
     },
     "execution_count": 4,
     "metadata": {},
     "output_type": "execute_result"
    }
   ],
   "source": [
    "isinstance(data.index, pd.DatetimeIndex)"
   ]
  },
  {
   "cell_type": "code",
   "execution_count": 5,
   "metadata": {},
   "outputs": [
    {
     "data": {
      "text/plain": [
       "Store             int64\n",
       "Dept              int64\n",
       "Weekly_Sales    float64\n",
       "IsHoliday          bool\n",
       "dtype: object"
      ]
     },
     "execution_count": 5,
     "metadata": {},
     "output_type": "execute_result"
    }
   ],
   "source": [
    "data.dtypes"
   ]
  },
  {
   "cell_type": "code",
   "execution_count": 6,
   "metadata": {},
   "outputs": [
    {
     "data": {
      "text/plain": [
       "Store           0\n",
       "Dept            0\n",
       "Weekly_Sales    0\n",
       "IsHoliday       0\n",
       "dtype: int64"
      ]
     },
     "execution_count": 6,
     "metadata": {},
     "output_type": "execute_result"
    }
   ],
   "source": [
    "data.isnull().sum()"
   ]
  },
  {
   "cell_type": "code",
   "execution_count": 7,
   "metadata": {},
   "outputs": [
    {
     "data": {
      "text/html": [
       "<div>\n",
       "<style scoped>\n",
       "    .dataframe tbody tr th:only-of-type {\n",
       "        vertical-align: middle;\n",
       "    }\n",
       "\n",
       "    .dataframe tbody tr th {\n",
       "        vertical-align: top;\n",
       "    }\n",
       "\n",
       "    .dataframe thead th {\n",
       "        text-align: right;\n",
       "    }\n",
       "</style>\n",
       "<table border=\"1\" class=\"dataframe\">\n",
       "  <thead>\n",
       "    <tr style=\"text-align: right;\">\n",
       "      <th></th>\n",
       "      <th>count</th>\n",
       "      <th>mean</th>\n",
       "      <th>std</th>\n",
       "      <th>min</th>\n",
       "      <th>25%</th>\n",
       "      <th>50%</th>\n",
       "      <th>75%</th>\n",
       "      <th>max</th>\n",
       "    </tr>\n",
       "  </thead>\n",
       "  <tbody>\n",
       "    <tr>\n",
       "      <th>Store</th>\n",
       "      <td>421570.0</td>\n",
       "      <td>22.200546</td>\n",
       "      <td>12.785297</td>\n",
       "      <td>1.00</td>\n",
       "      <td>11.00</td>\n",
       "      <td>22.00</td>\n",
       "      <td>33.0000</td>\n",
       "      <td>45.00</td>\n",
       "    </tr>\n",
       "    <tr>\n",
       "      <th>Dept</th>\n",
       "      <td>421570.0</td>\n",
       "      <td>44.260317</td>\n",
       "      <td>30.492054</td>\n",
       "      <td>1.00</td>\n",
       "      <td>18.00</td>\n",
       "      <td>37.00</td>\n",
       "      <td>74.0000</td>\n",
       "      <td>99.00</td>\n",
       "    </tr>\n",
       "    <tr>\n",
       "      <th>Weekly_Sales</th>\n",
       "      <td>421570.0</td>\n",
       "      <td>15981.258123</td>\n",
       "      <td>22711.183519</td>\n",
       "      <td>-4988.94</td>\n",
       "      <td>2079.65</td>\n",
       "      <td>7612.03</td>\n",
       "      <td>20205.8525</td>\n",
       "      <td>693099.36</td>\n",
       "    </tr>\n",
       "  </tbody>\n",
       "</table>\n",
       "</div>"
      ],
      "text/plain": [
       "                 count          mean           std      min      25%      50%  \\\n",
       "Store         421570.0     22.200546     12.785297     1.00    11.00    22.00   \n",
       "Dept          421570.0     44.260317     30.492054     1.00    18.00    37.00   \n",
       "Weekly_Sales  421570.0  15981.258123  22711.183519 -4988.94  2079.65  7612.03   \n",
       "\n",
       "                     75%        max  \n",
       "Store            33.0000      45.00  \n",
       "Dept             74.0000      99.00  \n",
       "Weekly_Sales  20205.8525  693099.36  "
      ]
     },
     "execution_count": 7,
     "metadata": {},
     "output_type": "execute_result"
    }
   ],
   "source": [
    "data.describe().T"
   ]
  },
  {
   "cell_type": "code",
   "execution_count": null,
   "metadata": {},
   "outputs": [],
   "source": []
  },
  {
   "cell_type": "markdown",
   "metadata": {},
   "source": [
    "#### 1. Extracting Data to Model\n",
    "\n",
    "Our data set has a number of stores, each with weekly sales volumes for many departments. \n",
    "\n",
    "To facilitate our first time series model, we need to use a single store, and aggregate the total sales for all departments.\n",
    "\n",
    "**Aggregate all of the sales for STORE 1 into a new dataframe called `Weekly_Sales`.**\n"
   ]
  },
  {
   "cell_type": "code",
   "execution_count": 8,
   "metadata": {},
   "outputs": [
    {
     "data": {
      "text/html": [
       "<div>\n",
       "<style scoped>\n",
       "    .dataframe tbody tr th:only-of-type {\n",
       "        vertical-align: middle;\n",
       "    }\n",
       "\n",
       "    .dataframe tbody tr th {\n",
       "        vertical-align: top;\n",
       "    }\n",
       "\n",
       "    .dataframe thead th {\n",
       "        text-align: right;\n",
       "    }\n",
       "</style>\n",
       "<table border=\"1\" class=\"dataframe\">\n",
       "  <thead>\n",
       "    <tr style=\"text-align: right;\">\n",
       "      <th></th>\n",
       "      <th>Store</th>\n",
       "      <th>Dept</th>\n",
       "      <th>Weekly_Sales</th>\n",
       "      <th>IsHoliday</th>\n",
       "    </tr>\n",
       "    <tr>\n",
       "      <th>Date</th>\n",
       "      <th></th>\n",
       "      <th></th>\n",
       "      <th></th>\n",
       "      <th></th>\n",
       "    </tr>\n",
       "  </thead>\n",
       "  <tbody>\n",
       "    <tr>\n",
       "      <th>2010-02-05</th>\n",
       "      <td>1</td>\n",
       "      <td>1</td>\n",
       "      <td>24924.50</td>\n",
       "      <td>False</td>\n",
       "    </tr>\n",
       "    <tr>\n",
       "      <th>2010-02-05</th>\n",
       "      <td>1</td>\n",
       "      <td>35</td>\n",
       "      <td>2770.00</td>\n",
       "      <td>False</td>\n",
       "    </tr>\n",
       "    <tr>\n",
       "      <th>2010-02-05</th>\n",
       "      <td>1</td>\n",
       "      <td>36</td>\n",
       "      <td>120.00</td>\n",
       "      <td>False</td>\n",
       "    </tr>\n",
       "    <tr>\n",
       "      <th>2010-02-05</th>\n",
       "      <td>1</td>\n",
       "      <td>37</td>\n",
       "      <td>3438.16</td>\n",
       "      <td>False</td>\n",
       "    </tr>\n",
       "    <tr>\n",
       "      <th>2010-02-05</th>\n",
       "      <td>1</td>\n",
       "      <td>38</td>\n",
       "      <td>115564.35</td>\n",
       "      <td>False</td>\n",
       "    </tr>\n",
       "  </tbody>\n",
       "</table>\n",
       "</div>"
      ],
      "text/plain": [
       "            Store  Dept  Weekly_Sales  IsHoliday\n",
       "Date                                            \n",
       "2010-02-05      1     1      24924.50      False\n",
       "2010-02-05      1    35       2770.00      False\n",
       "2010-02-05      1    36        120.00      False\n",
       "2010-02-05      1    37       3438.16      False\n",
       "2010-02-05      1    38     115564.35      False"
      ]
     },
     "execution_count": 8,
     "metadata": {},
     "output_type": "execute_result"
    }
   ],
   "source": [
    "store_1 = data[data.Store == 1]\n",
    "store_1.sort_index(inplace=True)\n",
    "store_1.head()\n",
    "#Weekly_Sales.groupby(['Dept']).sum()"
   ]
  },
  {
   "cell_type": "code",
   "execution_count": 9,
   "metadata": {},
   "outputs": [],
   "source": [
    "aggregate_sales = store_1.groupby(['Date']).sum()\n",
    "# could also have used\n",
    "# aggregate_sales = store_1.resample('W').sum()\n",
    "aggregate_sales.head()"
   ]
  },
  {
   "cell_type": "code",
   "execution_count": 11,
   "metadata": {},
   "outputs": [
    {
     "data": {
      "text/html": [
       "<div>\n",
       "<style scoped>\n",
       "    .dataframe tbody tr th:only-of-type {\n",
       "        vertical-align: middle;\n",
       "    }\n",
       "\n",
       "    .dataframe tbody tr th {\n",
       "        vertical-align: top;\n",
       "    }\n",
       "\n",
       "    .dataframe thead th {\n",
       "        text-align: right;\n",
       "    }\n",
       "</style>\n",
       "<table border=\"1\" class=\"dataframe\">\n",
       "  <thead>\n",
       "    <tr style=\"text-align: right;\">\n",
       "      <th></th>\n",
       "      <th>Weekly_Sales</th>\n",
       "    </tr>\n",
       "    <tr>\n",
       "      <th>Date</th>\n",
       "      <th></th>\n",
       "    </tr>\n",
       "  </thead>\n",
       "  <tbody>\n",
       "    <tr>\n",
       "      <th>2010-02-05</th>\n",
       "      <td>1643690.90</td>\n",
       "    </tr>\n",
       "    <tr>\n",
       "      <th>2010-02-12</th>\n",
       "      <td>1641957.44</td>\n",
       "    </tr>\n",
       "    <tr>\n",
       "      <th>2010-02-19</th>\n",
       "      <td>1611968.17</td>\n",
       "    </tr>\n",
       "    <tr>\n",
       "      <th>2010-02-26</th>\n",
       "      <td>1409727.59</td>\n",
       "    </tr>\n",
       "    <tr>\n",
       "      <th>2010-03-05</th>\n",
       "      <td>1554806.68</td>\n",
       "    </tr>\n",
       "  </tbody>\n",
       "</table>\n",
       "</div>"
      ],
      "text/plain": [
       "            Weekly_Sales\n",
       "Date                    \n",
       "2010-02-05    1643690.90\n",
       "2010-02-12    1641957.44\n",
       "2010-02-19    1611968.17\n",
       "2010-02-26    1409727.59\n",
       "2010-03-05    1554806.68"
      ]
     },
     "execution_count": 11,
     "metadata": {},
     "output_type": "execute_result"
    }
   ],
   "source": [
    "Weekly_Sales = pd.DataFrame(aggregate_sales.Weekly_Sales)\n",
    "Weekly_Sales.head()"
   ]
  },
  {
   "cell_type": "markdown",
   "metadata": {},
   "source": [
    "#### 2. Plotting & Interpreting Time Series\n",
    "\n",
    "Plots are a central part of all time series analysis. You should always start with a basic line plot.\n",
    "\n",
    "**2a. Generate a line plot for `Weekly_Sales` with time on the $x$-axis.**"
   ]
  },
  {
   "cell_type": "code",
   "execution_count": 12,
   "metadata": {},
   "outputs": [
    {
     "data": {
      "text/plain": [
       "[<matplotlib.lines.Line2D at 0x1109f7630>]"
      ]
     },
     "execution_count": 12,
     "metadata": {},
     "output_type": "execute_result"
    },
    {
     "data": {
      "image/png": "[encoded data removed]",
      "text/plain": [
       "<Figure size 432x288 with 1 Axes>"
      ]
     },
     "metadata": {
      "needs_background": "light"
     },
     "output_type": "display_data"
    }
   ],
   "source": [
    "plt.plot(Weekly_Sales.index, Weekly_Sales.Weekly_Sales)"
   ]
  },
  {
   "cell_type": "markdown",
   "metadata": {},
   "source": [
    "Smoothing can help us see trends in the data. With time series, this frequently means plotting a rolling mean.\n",
    "\n",
    "You might start looking at a one week roll, but you consider several 'windows' of time. \n",
    " - What would a four week rolling mean look like? \n",
    " - How about quarterly? \n",
    " - Or annually? \n",
    "\n",
    "**2b. Calculate the rolling mean(s) for `Weekly_Sales` then plot them on a single set of axes.**"
   ]
  },
  {
   "cell_type": "code",
   "execution_count": 13,
   "metadata": {},
   "outputs": [
    {
     "data": {
      "image/png": "[encoded data removed]",
      "text/plain": [
       "<Figure size 1008x648 with 1 Axes>"
      ]
     },
     "metadata": {
      "needs_background": "light"
     },
     "output_type": "display_data"
    }
   ],
   "source": [
    "plt.figure(figsize=(14,9))\n",
    "plt.plot(Weekly_Sales, label='Weekly Sales')\n",
    "plt.plot(Weekly_Sales.rolling(2).mean(), label='weekly rolling avg')\n",
    "plt.plot(Weekly_Sales.rolling(5).mean(), label='monthly rolling avg')\n",
    "plt.plot(Weekly_Sales.rolling(13).mean(), label='quarterly rolling avg')\n",
    "plt.plot(Weekly_Sales.rolling(53).mean(), label='yearly rolling avg')\n",
    "plt.legend();"
   ]
  },
  {
   "cell_type": "markdown",
   "metadata": {},
   "source": [
    "**2c. What can you say about trends in the data based on the rolling mean plot above?**"
   ]
  },
  {
   "cell_type": "markdown",
   "metadata": {},
   "source": [
    "*Answer:*\n",
    "\n",
    "The yearly rolling average shows a slight upward trend in weekly sales.  There are large spikes in sales around Christmas each year."
   ]
  },
  {
   "cell_type": "markdown",
   "metadata": {},
   "source": [
    "#### 3. Autocorrelations\n",
    "\n",
    "We've learned about autocorrelation: the influence a serial observation has on the observations which follow.\n",
    "\n",
    "Calculate autocorrelation in your `Weekly_Sales` data so that you can answer the question: 'How does autocorrelation differ as lag-weeks vary?'\n",
    "\n",
    "**3a. Check at least three lag intervals (but feel free to explore others):**\n",
    " - **1 week**\n",
    " - **2 weeks**\n",
    " - **1 year (52 weeks)**"
   ]
  },
  {
   "cell_type": "code",
   "execution_count": 14,
   "metadata": {},
   "outputs": [
    {
     "data": {
      "text/plain": [
       "0.30215827941131307"
      ]
     },
     "execution_count": 14,
     "metadata": {},
     "output_type": "execute_result"
    }
   ],
   "source": [
    "Weekly_Sales.Weekly_Sales.autocorr(1)"
   ]
  },
  {
   "cell_type": "code",
   "execution_count": 15,
   "metadata": {},
   "outputs": [
    {
     "data": {
      "text/plain": [
       "0.12741313055390155"
      ]
     },
     "execution_count": 15,
     "metadata": {},
     "output_type": "execute_result"
    }
   ],
   "source": [
    "Weekly_Sales.Weekly_Sales.autocorr(2)"
   ]
  },
  {
   "cell_type": "code",
   "execution_count": 39,
   "metadata": {},
   "outputs": [
    {
     "data": {
      "text/plain": [
       "0.23819294088311638"
      ]
     },
     "execution_count": 39,
     "metadata": {},
     "output_type": "execute_result"
    }
   ],
   "source": [
    "Weekly_Sales.Weekly_Sales.autocorr(4)"
   ]
  },
  {
   "cell_type": "code",
   "execution_count": 40,
   "metadata": {},
   "outputs": [
    {
     "data": {
      "text/plain": [
       "0.8953760294777005"
      ]
     },
     "execution_count": 40,
     "metadata": {},
     "output_type": "execute_result"
    }
   ],
   "source": [
    "Weekly_Sales.Weekly_Sales.autocorr(52)"
   ]
  },
  {
   "cell_type": "markdown",
   "metadata": {},
   "source": [
    "**3b. What can you say about the series based on these autocorrelations?**"
   ]
  },
  {
   "cell_type": "markdown",
   "metadata": {},
   "source": [
    "Answer: The data is more correlated on a weekly basis than a bi-weekly basis, and is most highly correlated on an annual basis."
   ]
  },
  {
   "cell_type": "markdown",
   "metadata": {},
   "source": [
    "**3c. Plotting ACF and PCF**\n",
    "As we learned in lecture, plotting the `Autocorrelation Function` and `Partial Autocorrelation Functions` can be useful in understanding seasonality in time series data.\n",
    "\n",
    "Make a 52-week `ACF` and 52-week `PACF` plot now."
   ]
  },
  {
   "cell_type": "code",
   "execution_count": 18,
   "metadata": {},
   "outputs": [],
   "source": [
    "from statsmodels.graphics.tsaplots import plot_acf, plot_pacf"
   ]
  },
  {
   "cell_type": "code",
   "execution_count": 19,
   "metadata": {},
   "outputs": [
    {
     "data": {
      "image/png": "[encoded data removed]",
      "text/plain": [
       "<Figure size 432x288 with 1 Axes>"
      ]
     },
     "metadata": {
      "needs_background": "light"
     },
     "output_type": "display_data"
    }
   ],
   "source": [
    "plot_acf(Weekly_Sales.Weekly_Sales, lags=52);"
   ]
  },
  {
   "cell_type": "code",
   "execution_count": 20,
   "metadata": {},
   "outputs": [
    {
     "data": {
      "image/png": "[encoded data removed]",
      "text/plain": [
       "<Figure size 432x288 with 1 Axes>"
      ]
     },
     "metadata": {
      "needs_background": "light"
     },
     "output_type": "display_data"
    }
   ],
   "source": [
    "plot_pacf(Weekly_Sales.Weekly_Sales, lags = 52);"
   ]
  },
  {
   "cell_type": "markdown",
   "metadata": {},
   "source": [
    "#### 4. Interpreting the `ACF` and `PACF` Plots\n",
    "\n",
    "**4a. What do the ACF and PACF graphs tell you about your sales data?**"
   ]
  },
  {
   "cell_type": "markdown",
   "metadata": {},
   "source": [
    "Answer: \n",
    "\n",
    "ACF graph tells me there are statistically significant correlations between $Y_t$ and $Y_{t-k}$ for $k$ = 1, 4, and 52.\n",
    "\n",
    "PACF graph tells me there are statistically significant correlations between $Y_t$ and $Y_{t-k}$ for $k$ = 1, 4, 5, 12, 21, 29, 47, 48, 49, 50, 51, and 52, accounting for all lower order lags."
   ]
  },
  {
   "cell_type": "markdown",
   "metadata": {},
   "source": [
    "**4b. How do the `ACF` and `PACF` inform your model selections moving forward?**"
   ]
  },
  {
   "cell_type": "markdown",
   "metadata": {},
   "source": [
    "Answer: The PACF has a sharp cut-off between lag 1 and lag 2, and the first lag in the ACF is positive. Thus, we should set  𝑝=1 ."
   ]
  },
  {
   "cell_type": "markdown",
   "metadata": {},
   "source": [
    "## Modeling\n",
    "\n",
    "**5. Train/Test Split**  \n",
    "\n",
    "Modeling with time series data presents unique challenges because our observations are not independent of one another. \n",
    "\n",
    "So, in splitting the data into `training` and `test` sets, **we cannot split randomly**. Use the first *75%* of observations as training data and the following 25% for test data."
   ]
  },
  {
   "cell_type": "code",
   "execution_count": 21,
   "metadata": {},
   "outputs": [
    {
     "data": {
      "text/plain": [
       "107.25"
      ]
     },
     "execution_count": 21,
     "metadata": {},
     "output_type": "execute_result"
    }
   ],
   "source": [
    "Weekly_Sales.shape[0] * 0.75"
   ]
  },
  {
   "cell_type": "code",
   "execution_count": 22,
   "metadata": {},
   "outputs": [],
   "source": [
    "train = Weekly_Sales.iloc[0:107]\n",
    "\n",
    "test = Weekly_Sales.iloc[107:]"
   ]
  },
  {
   "cell_type": "markdown",
   "metadata": {},
   "source": [
    "#### 6. Autoregressive Model\n",
    "\n",
    "We will start by building a simple autoregressive model first: the `AR(1)` model. (*Note that this is the same thing as an ARIMA(1,0,0) model.*)\n",
    "\n",
    "**6a. Instantiate and fit an `AR(1)` model.**"
   ]
  },
  {
   "cell_type": "code",
   "execution_count": 23,
   "metadata": {},
   "outputs": [],
   "source": [
    "model = ARIMA(endog = train.Weekly_Sales,\n",
    "           order = (1,0,0))\n",
    "ar_1 = model.fit()"
   ]
  },
  {
   "cell_type": "markdown",
   "metadata": {},
   "source": [
    "**6b. Calculate the Mean Squared Error of the `AR(1)` on your training set and your test set.**\n"
   ]
  },
  {
   "cell_type": "code",
   "execution_count": 41,
   "metadata": {},
   "outputs": [
    {
     "name": "stdout",
     "output_type": "stream",
     "text": [
      "training MSE: 25903501210.270702\n",
      "training RMSE: 160945.6467577508\n",
      "test MSE: 11108594679.861055\n",
      "test RMSE: 105397.3181815413\n"
     ]
    }
   ],
   "source": [
    "preds=ar_1.predict()\n",
    "print(f'training MSE: {mean_squared_error(train.Weekly_Sales, preds)}')\n",
    "print(f'training RMSE: {mean_squared_error(train.Weekly_Sales, preds)**0.5}')\n",
    "\n",
    "test_preds=ar_1.predict(start=107, end=142)\n",
    "print(f'test MSE: {mean_squared_error(test.Weekly_Sales, test_preds)}')\n",
    "print(f'test RMSE: {mean_squared_error(test.Weekly_Sales, test_preds)**0.5}')"
   ]
  },
  {
   "cell_type": "markdown",
   "metadata": {},
   "source": [
    "**6c. How effective do you think this `AR(1)` model is?**"
   ]
  },
  {
   "cell_type": "markdown",
   "metadata": {},
   "source": [
    "Answer: not very"
   ]
  },
  {
   "cell_type": "markdown",
   "metadata": {},
   "source": [
    "#### 7. Residual Plot  \n",
    "Mean squared error is a good way to evaluate our model's performance. However, this doesn't tell the whole story. Is our model off by a lot in one specific window of time? Is our model only slightly off, but over all time? It might be helpful to plot residuals to see when our model is off most.\n",
    "\n",
    "**7a. Calculate and and plot the residuals of your `AR(1)` model. (*Remember that a residual is just the actual value minus the predicted value.*)**"
   ]
  },
  {
   "cell_type": "code",
   "execution_count": 25,
   "metadata": {},
   "outputs": [
    {
     "data": {
      "text/plain": [
       "<matplotlib.collections.PathCollection at 0x123bec978>"
      ]
     },
     "execution_count": 25,
     "metadata": {},
     "output_type": "execute_result"
    },
    {
     "data": {
      "image/png": "[encoded data removed]",
      "text/plain": [
       "<Figure size 1008x648 with 1 Axes>"
      ]
     },
     "metadata": {
      "needs_background": "light"
     },
     "output_type": "display_data"
    }
   ],
   "source": [
    "train_residuals = train.Weekly_Sales - preds\n",
    "test_residuals = test.Weekly_Sales - test_preds\n",
    "plt.figure(figsize=(14,9))\n",
    "plt.scatter(train.index, train_residuals)\n",
    "plt.scatter(test.index, test_residuals)\n"
   ]
  },
  {
   "cell_type": "markdown",
   "metadata": {},
   "source": [
    "From this plot we can see that there are clearly errors in our predictions. \n",
    "\n",
    "**7b. What do the residual plots reveal about our model?**"
   ]
  },
  {
   "cell_type": "markdown",
   "metadata": {},
   "source": [
    "Answer: There are very large residuals around Christmas sales. Otherwise our residuals are pretty evenly distributed around 0."
   ]
  },
  {
   "cell_type": "markdown",
   "metadata": {},
   "source": [
    "#### 8. AR vs. ARMA Models \n",
    "\n",
    "\n",
    "**8a. Let's fit an `AR(2)` model. Calculate the MSE on the training and testing sets, then plot the residuals.**"
   ]
  },
  {
   "cell_type": "code",
   "execution_count": 26,
   "metadata": {},
   "outputs": [
    {
     "name": "stdout",
     "output_type": "stream",
     "text": [
      "training MSE: 25814331014.062042\n",
      "test MSE: 10932676757.949171\n"
     ]
    }
   ],
   "source": [
    "model = ARIMA(endog=train.Weekly_Sales,\n",
    "              order = (2,0,0))\n",
    "ar_2 = model.fit()\n",
    "\n",
    "preds=ar_2.predict()\n",
    "print(f'training MSE: {mean_squared_error(train.Weekly_Sales, preds)}')\n",
    "\n",
    "test_preds=ar_2.predict(start=107, end=142)\n",
    "print(f'test MSE: {mean_squared_error(test.Weekly_Sales, test_preds)}')"
   ]
  },
  {
   "cell_type": "code",
   "execution_count": 27,
   "metadata": {},
   "outputs": [
    {
     "data": {
      "text/plain": [
       "<matplotlib.collections.PathCollection at 0x12472b080>"
      ]
     },
     "execution_count": 27,
     "metadata": {},
     "output_type": "execute_result"
    },
    {
     "data": {
      "image/png": "[encoded data removed]",
      "text/plain": [
       "<Figure size 1008x648 with 1 Axes>"
      ]
     },
     "metadata": {
      "needs_background": "light"
     },
     "output_type": "display_data"
    }
   ],
   "source": [
    "train_residuals = train.Weekly_Sales - preds\n",
    "test_residuals = test.Weekly_Sales - test_preds\n",
    "plt.figure(figsize=(14,9))\n",
    "plt.scatter(train.index, train_residuals)\n",
    "plt.scatter(test.index, test_residuals)"
   ]
  },
  {
   "cell_type": "markdown",
   "metadata": {},
   "source": [
    "**8b. How did your results change?**"
   ]
  },
  {
   "cell_type": "markdown",
   "metadata": {},
   "source": [
    "Answer: Train and Test MSE both decreased a bit."
   ]
  },
  {
   "cell_type": "markdown",
   "metadata": {},
   "source": [
    "**8c. Fit an `ARMA(2,2)` model. Calculate the MSE on the training and testing sets, then plot the residuals.** (_Note that an `ARMA(2,2)` model is the same as an `ARIMA(2,0,2)` model._)"
   ]
  },
  {
   "cell_type": "code",
   "execution_count": 28,
   "metadata": {},
   "outputs": [
    {
     "name": "stdout",
     "output_type": "stream",
     "text": [
      "training MSE: 21563489560.64769\n",
      "test MSE: 11042379337.83504\n"
     ]
    }
   ],
   "source": [
    "model = ARIMA(endog=train.Weekly_Sales,\n",
    "              order = (2,0,2))\n",
    "arma_2_2 = model.fit()\n",
    "\n",
    "preds=arma_2_2.predict()\n",
    "print(f'training MSE: {mean_squared_error(train.Weekly_Sales, preds)}')\n",
    "\n",
    "test_preds=arma_2_2.predict(start=107, end=142)\n",
    "print(f'test MSE: {mean_squared_error(test.Weekly_Sales, test_preds)}')"
   ]
  },
  {
   "cell_type": "code",
   "execution_count": 29,
   "metadata": {},
   "outputs": [
    {
     "data": {
      "text/plain": [
       "<matplotlib.collections.PathCollection at 0x125034748>"
      ]
     },
     "execution_count": 29,
     "metadata": {},
     "output_type": "execute_result"
    },
    {
     "data": {
      "image/png": "[encoded data removed]",
      "text/plain": [
       "<Figure size 1008x648 with 1 Axes>"
      ]
     },
     "metadata": {
      "needs_background": "light"
     },
     "output_type": "display_data"
    }
   ],
   "source": [
    "train_residuals = train.Weekly_Sales - preds\n",
    "test_residuals = test.Weekly_Sales - test_preds\n",
    "plt.figure(figsize=(14,9))\n",
    "plt.scatter(train.index, train_residuals)\n",
    "plt.scatter(test.index, test_residuals)"
   ]
  },
  {
   "cell_type": "markdown",
   "metadata": {},
   "source": [
    "**8d. How do the errors and residuals change from `AR(2)` to `ARMA(2,2)`?**\n",
    "\n"
   ]
  },
  {
   "cell_type": "markdown",
   "metadata": {},
   "source": [
    "Answer: Training MSE decreased a lot. Test MSE increased a bit."
   ]
  },
  {
   "cell_type": "markdown",
   "metadata": {},
   "source": [
    "#### 9. Stationary Data\n",
    "\n",
    "Remember that one assumption to using the ARIMA model is that our data are **stationary**. This is a necessary assumption for our model, and it is important for us to check for it whenever we fit a time series model.\n",
    "\n",
    "**9a. Use the Augmented Dickey-Fuller test to estimate whether or not your data are stationary.**"
   ]
  },
  {
   "cell_type": "code",
   "execution_count": 30,
   "metadata": {},
   "outputs": [
    {
     "data": {
      "text/plain": [
       "(-5.102186145192288,\n",
       " 1.3877788330759434e-05,\n",
       " 4,\n",
       " 138,\n",
       " {'1%': -3.47864788917503,\n",
       "  '5%': -2.882721765644168,\n",
       "  '10%': -2.578065326612056},\n",
       " 3412.7325502876756)"
      ]
     },
     "execution_count": 30,
     "metadata": {},
     "output_type": "execute_result"
    }
   ],
   "source": [
    "adfuller(Weekly_Sales.Weekly_Sales)"
   ]
  },
  {
   "cell_type": "markdown",
   "metadata": {},
   "source": [
    "**9b. Interpret the results of the Augmented Dickey-Fuller test.**"
   ]
  },
  {
   "cell_type": "markdown",
   "metadata": {},
   "source": [
    "Answer: The p value of 1.3877788330759434e-05 is very small. Thus we reject the null hypothesis, and accept that our data is stationary."
   ]
  },
  {
   "cell_type": "markdown",
   "metadata": {},
   "source": [
    "#### 10. Differenced Data\n",
    "\n",
    "**10a. Create new columns in your `Weekly_Sales` dataframe.**\n",
    "- One column should be `Weekly_Sales` differenced by 1 time period.\n",
    "- Another column should be `Weekly_Sales` differenced by 2 time periods.\n",
    "- Another column should be `Weekly_Sales` differenced by 3 time periods.\n",
    "- Another column should be `Weekly_Sales` differenced by 4 time periods."
   ]
  },
  {
   "cell_type": "code",
   "execution_count": 31,
   "metadata": {},
   "outputs": [
    {
     "data": {
      "text/html": [
       "<div>\n",
       "<style scoped>\n",
       "    .dataframe tbody tr th:only-of-type {\n",
       "        vertical-align: middle;\n",
       "    }\n",
       "\n",
       "    .dataframe tbody tr th {\n",
       "        vertical-align: top;\n",
       "    }\n",
       "\n",
       "    .dataframe thead th {\n",
       "        text-align: right;\n",
       "    }\n",
       "</style>\n",
       "<table border=\"1\" class=\"dataframe\">\n",
       "  <thead>\n",
       "    <tr style=\"text-align: right;\">\n",
       "      <th></th>\n",
       "      <th>Weekly_Sales</th>\n",
       "      <th>diff_1</th>\n",
       "      <th>diff_2</th>\n",
       "      <th>diff_3</th>\n",
       "      <th>diff_4</th>\n",
       "    </tr>\n",
       "    <tr>\n",
       "      <th>Date</th>\n",
       "      <th></th>\n",
       "      <th></th>\n",
       "      <th></th>\n",
       "      <th></th>\n",
       "      <th></th>\n",
       "    </tr>\n",
       "  </thead>\n",
       "  <tbody>\n",
       "    <tr>\n",
       "      <th>2010-02-05</th>\n",
       "      <td>1643690.90</td>\n",
       "      <td>NaN</td>\n",
       "      <td>NaN</td>\n",
       "      <td>NaN</td>\n",
       "      <td>NaN</td>\n",
       "    </tr>\n",
       "    <tr>\n",
       "      <th>2010-02-12</th>\n",
       "      <td>1641957.44</td>\n",
       "      <td>-1733.46</td>\n",
       "      <td>NaN</td>\n",
       "      <td>NaN</td>\n",
       "      <td>NaN</td>\n",
       "    </tr>\n",
       "    <tr>\n",
       "      <th>2010-02-19</th>\n",
       "      <td>1611968.17</td>\n",
       "      <td>-29989.27</td>\n",
       "      <td>-31722.73</td>\n",
       "      <td>NaN</td>\n",
       "      <td>NaN</td>\n",
       "    </tr>\n",
       "    <tr>\n",
       "      <th>2010-02-26</th>\n",
       "      <td>1409727.59</td>\n",
       "      <td>-202240.58</td>\n",
       "      <td>-232229.85</td>\n",
       "      <td>-233963.31</td>\n",
       "      <td>NaN</td>\n",
       "    </tr>\n",
       "    <tr>\n",
       "      <th>2010-03-05</th>\n",
       "      <td>1554806.68</td>\n",
       "      <td>145079.09</td>\n",
       "      <td>-57161.49</td>\n",
       "      <td>-87150.76</td>\n",
       "      <td>-88884.22</td>\n",
       "    </tr>\n",
       "  </tbody>\n",
       "</table>\n",
       "</div>"
      ],
      "text/plain": [
       "            Weekly_Sales     diff_1     diff_2     diff_3    diff_4\n",
       "Date                                                               \n",
       "2010-02-05    1643690.90        NaN        NaN        NaN       NaN\n",
       "2010-02-12    1641957.44   -1733.46        NaN        NaN       NaN\n",
       "2010-02-19    1611968.17  -29989.27  -31722.73        NaN       NaN\n",
       "2010-02-26    1409727.59 -202240.58 -232229.85 -233963.31       NaN\n",
       "2010-03-05    1554806.68  145079.09  -57161.49  -87150.76 -88884.22"
      ]
     },
     "execution_count": 31,
     "metadata": {},
     "output_type": "execute_result"
    }
   ],
   "source": [
    "Weekly_Sales['diff_1'] = Weekly_Sales.Weekly_Sales.diff(1)\n",
    "Weekly_Sales['diff_2'] = Weekly_Sales.Weekly_Sales.diff(2)\n",
    "Weekly_Sales['diff_3'] = Weekly_Sales.Weekly_Sales.diff(3)\n",
    "Weekly_Sales['diff_4'] = Weekly_Sales.Weekly_Sales.diff(4)\n",
    "Weekly_Sales.head()"
   ]
  },
  {
   "cell_type": "markdown",
   "metadata": {},
   "source": [
    "**10b. Conduct and interpret the Augmented Dickey-Fuller test on each differenced column to test for stationarity.**"
   ]
  },
  {
   "cell_type": "code",
   "execution_count": 32,
   "metadata": {},
   "outputs": [
    {
     "data": {
      "text/plain": [
       "(-7.26157537400251,\n",
       " 1.6761796699230575e-10,\n",
       " 7,\n",
       " 134,\n",
       " {'1%': -3.480118600110386,\n",
       "  '5%': -2.8833618426136196,\n",
       "  '10%': -2.578407034974382},\n",
       " 3396.8250847356326)"
      ]
     },
     "execution_count": 32,
     "metadata": {},
     "output_type": "execute_result"
    }
   ],
   "source": [
    "adfuller(Weekly_Sales.diff_1.dropna())"
   ]
  },
  {
   "cell_type": "code",
   "execution_count": 33,
   "metadata": {},
   "outputs": [
    {
     "data": {
      "text/plain": [
       "(-6.2062490331717965,\n",
       " 5.648528081560353e-08,\n",
       " 9,\n",
       " 131,\n",
       " {'1%': -3.481281802271349,\n",
       "  '5%': -2.883867891664528,\n",
       "  '10%': -2.5786771965503177},\n",
       " 3376.126351360735)"
      ]
     },
     "execution_count": 33,
     "metadata": {},
     "output_type": "execute_result"
    }
   ],
   "source": [
    "adfuller(Weekly_Sales.diff_2.dropna())"
   ]
  },
  {
   "cell_type": "code",
   "execution_count": 34,
   "metadata": {},
   "outputs": [
    {
     "data": {
      "text/plain": [
       "(-5.160622079979383,\n",
       " 1.0574216784747787e-05,\n",
       " 13,\n",
       " 126,\n",
       " {'1%': -3.4833462346078936,\n",
       "  '5%': -2.8847655969877666,\n",
       "  '10%': -2.5791564575459813},\n",
       " 3363.5895007901327)"
      ]
     },
     "execution_count": 34,
     "metadata": {},
     "output_type": "execute_result"
    }
   ],
   "source": [
    "adfuller(Weekly_Sales.diff_3.dropna())"
   ]
  },
  {
   "cell_type": "code",
   "execution_count": 35,
   "metadata": {},
   "outputs": [
    {
     "data": {
      "text/plain": [
       "(-6.856819097780482,\n",
       " 1.6403938795022133e-09,\n",
       " 7,\n",
       " 131,\n",
       " {'1%': -3.481281802271349,\n",
       "  '5%': -2.883867891664528,\n",
       "  '10%': -2.5786771965503177},\n",
       " 3332.3851319669443)"
      ]
     },
     "execution_count": 35,
     "metadata": {},
     "output_type": "execute_result"
    }
   ],
   "source": [
    "adfuller(Weekly_Sales.diff_4.dropna())"
   ]
  },
  {
   "cell_type": "markdown",
   "metadata": {},
   "source": [
    "**10c. For which (if any) of the columns does it seem meaningful to have differenced the data?**"
   ]
  },
  {
   "cell_type": "markdown",
   "metadata": {},
   "source": [
    "Answer: 1, 2, 4"
   ]
  },
  {
   "cell_type": "markdown",
   "metadata": {},
   "source": [
    "**10d. Based on these tests and the ACF/PACF plots above, do you think that using an Integrated AutoRegressive Moving Average (ARIMA) model makes sense? Why or why not?**"
   ]
  },
  {
   "cell_type": "markdown",
   "metadata": {},
   "source": [
    "Answer: No, since my data is not stationary based on the Augmented Dickey Fuller tests."
   ]
  },
  {
   "cell_type": "markdown",
   "metadata": {},
   "source": [
    "#### 11.  ARIMA MODEL\n",
    "\n",
    "Based on your interpretation of the results from your tests for stationarity, and information gleaned from your ACF and PACF plots, choose a value of `d` to use in the `ARIMA(2,d,2)`.\n",
    "\n",
    "**11a. Fit an `ARIMA(2,d,2)` model for the value of `d` you have chosen. Evaluate your model on the training and testing sets and generate a residual plot.**"
   ]
  },
  {
   "cell_type": "code",
   "execution_count": 36,
   "metadata": {},
   "outputs": [
    {
     "name": "stdout",
     "output_type": "stream",
     "text": [
      "training RMSE: 146845.12099708212\n",
      "test RMSE: 105082.72616293812\n"
     ]
    }
   ],
   "source": [
    "model = ARIMA(endog=train.Weekly_Sales,\n",
    "              order=(2,0,2))\n",
    "arima_2_0_2 = model.fit()\n",
    "\n",
    "preds = arima_2_0_2.predict()\n",
    "print(f'training RMSE: {np.sqrt(mean_squared_error(train.Weekly_Sales, preds))}')\n",
    "\n",
    "test_preds=arima_2_0_2.predict(start=107, end=142)\n",
    "print(f'test RMSE: {np.sqrt(mean_squared_error(test.Weekly_Sales, test_preds))}')"
   ]
  },
  {
   "cell_type": "code",
   "execution_count": 37,
   "metadata": {},
   "outputs": [
    {
     "data": {
      "text/plain": [
       "<matplotlib.collections.PathCollection at 0x1250b5940>"
      ]
     },
     "execution_count": 37,
     "metadata": {},
     "output_type": "execute_result"
    },
    {
     "data": {
      "image/png": "[encoded data removed]",
      "text/plain": [
       "<Figure size 1008x648 with 1 Axes>"
      ]
     },
     "metadata": {
      "needs_background": "light"
     },
     "output_type": "display_data"
    }
   ],
   "source": [
    "train_residuals = train.Weekly_Sales - preds\n",
    "test_residuals = test.Weekly_Sales - test_preds\n",
    "plt.figure(figsize=(14,9))\n",
    "plt.scatter(train.index, train_residuals)\n",
    "plt.scatter(test.index, test_residuals)"
   ]
  },
  {
   "cell_type": "markdown",
   "metadata": {},
   "source": [
    "**11b. Interpret the results from the last answer.**\n"
   ]
  },
  {
   "cell_type": "markdown",
   "metadata": {},
   "source": [
    "Answer: This is exactly the same as the ARMA_2_2"
   ]
  },
  {
   "cell_type": "markdown",
   "metadata": {},
   "source": [
    "#### 12. BONUS: SARIMAX Model\n",
    "We have looked at autocorrelation of neighboring values (i.e. comparing $Y_t$ to $Y_{t-1}$ or $Y_t$ to $Y_{t-4}$). However, what about seasonal affects on our data? How might the sales today be related to sales 6 months ago or a year ago?\n",
    "\n",
    "Let's build a SARIMAX model!\n",
    "\n",
    "**12a. Using `PACF` and `ACF` plots with appropriate intervals (think months in a year) try to build the best SARIMAX model you can in setting the `seasonal_order = (P, D, Q, S)` and using `order = (2, 0, 2)`, fit and evaluate the model as we have done in the prior models**."
   ]
  },
  {
   "cell_type": "code",
   "execution_count": null,
   "metadata": {},
   "outputs": [],
   "source": []
  },
  {
   "cell_type": "markdown",
   "metadata": {},
   "source": [
    "**12b. How did your best SARIMAX model perform?**"
   ]
  },
  {
   "cell_type": "markdown",
   "metadata": {},
   "source": [
    "Answer:"
   ]
  },
  {
   "cell_type": "markdown",
   "metadata": {},
   "source": [
    "### 13. Your Best Model\n",
    "\n",
    "**13a. In the cells below, bring together your best model, including:**\n",
    "- any summaries, \n",
    "- graphs of the data and residuals, \n",
    "- the predictions,\n",
    "- and how you decided this was your best model."
   ]
  },
  {
   "cell_type": "code",
   "execution_count": null,
   "metadata": {},
   "outputs": [],
   "source": []
  },
  {
   "cell_type": "code",
   "execution_count": null,
   "metadata": {},
   "outputs": [],
   "source": []
  },
  {
   "cell_type": "code",
   "execution_count": null,
   "metadata": {},
   "outputs": [],
   "source": []
  },
  {
   "cell_type": "code",
   "execution_count": 38,
   "metadata": {},
   "outputs": [
    {
     "data": {
      "text/plain": [
       "<matplotlib.collections.PathCollection at 0x125118da0>"
      ]
     },
     "execution_count": 38,
     "metadata": {},
     "output_type": "execute_result"
    },
    {
     "data": {
      "image/png": "[encoded data removed]",
      "text/plain": [
       "<Figure size 1008x648 with 1 Axes>"
      ]
     },
     "metadata": {
      "needs_background": "light"
     },
     "output_type": "display_data"
    }
   ],
   "source": [
    "train_residuals = train.Weekly_Sales - preds\n",
    "test_residuals = test.Weekly_Sales - test_preds\n",
    "plt.figure(figsize=(14,9))\n",
    "plt.scatter(train.index, train_residuals)\n",
    "plt.scatter(test.index, test_residuals)\n"
   ]
  },
  {
   "cell_type": "markdown",
   "metadata": {},
   "source": [
    "**13b. How does our model perform at predicting weekly sales moving forward?** "
   ]
  },
  {
   "cell_type": "markdown",
   "metadata": {},
   "source": [
    "Answer: "
   ]
  },
  {
   "cell_type": "markdown",
   "metadata": {},
   "source": [
    "**13c. How might you improve it?**"
   ]
  },
  {
   "cell_type": "markdown",
   "metadata": {},
   "source": [
    "Answer:"
   ]
  },
  {
   "cell_type": "markdown",
   "metadata": {},
   "source": [
    "### 14. BONUS: Rolling Predictions\n",
    "\n",
    "**Try testing the performance of your model using rolling predictions. For each testing observation $Y_t$ you should train your model using data up to $Y_{t-1}$. This allows us to make meaningful predictions for all testing observations** "
   ]
  },
  {
   "cell_type": "markdown",
   "metadata": {},
   "source": [
    "Answer:"
   ]
  }
 ],
 "metadata": {
  "kernelspec": {
   "display_name": "Python 3",
   "language": "python",
   "name": "python3"
  },
  "language_info": {
   "codemirror_mode": {
    "name": "ipython",
    "version": 3
   },
   "file_extension": ".py",
   "mimetype": "text/x-python",
   "name": "python",
   "nbconvert_exporter": "python",
   "pygments_lexer": "ipython3",
   "version": "3.6.8"
  }
 },
 "nbformat": 4,
 "nbformat_minor": 2
}
