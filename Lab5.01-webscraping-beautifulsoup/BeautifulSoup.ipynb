{
 "cells": [
  {
   "cell_type": "code",
   "execution_count": 1,
   "metadata": {},
   "outputs": [],
   "source": [
    "# Import libaries\n",
    "import pandas as pd\n",
    "import requests\n",
    "from bs4 import BeautifulSoup"
   ]
  },
  {
   "cell_type": "markdown",
   "metadata": {},
   "source": [
    "### Step 1: Create a soup object from the home page"
   ]
  },
  {
   "cell_type": "code",
   "execution_count": 2,
   "metadata": {},
   "outputs": [],
   "source": [
    "url = 'http://www.chubbygrub.com/'\n",
    "res = requests.get(url)\n",
    "soup = BeautifulSoup(res.text, 'lxml')"
   ]
  },
  {
   "cell_type": "markdown",
   "metadata": {},
   "source": [
    "### Step 2: Scrape the home page soup for every restaurant\n",
    "\n",
    "Note: Your best bet is to create a list of dictionaries, one for each restaurant. Each dictionary contains the restaurant's name and slug. The result of your scrape should look something like this:\n",
    "\n",
    "```python\n",
    "restaurants = [\n",
    "    {'name': 'A&W Restaurants', 'slug': 'aw-restaurants'}, \n",
    "    {'name': \"Applebee's\", 'slug': 'applebees'},\n",
    "    ...\n",
    "]\n",
    "```"
   ]
  },
  {
   "cell_type": "code",
   "execution_count": 3,
   "metadata": {},
   "outputs": [
    {
     "data": {
      "text/plain": [
       "'/restaurants/aw-restaurants'"
      ]
     },
     "execution_count": 3,
     "metadata": {},
     "output_type": "execute_result"
    }
   ],
   "source": [
    "soup.find('a', {'class': 'btn btn-lg btn-primary'}).attrs['href']"
   ]
  },
  {
   "cell_type": "code",
   "execution_count": 4,
   "metadata": {},
   "outputs": [
    {
     "data": {
      "text/plain": [
       "[{'name': 'A&W Restaurants', 'slug': 'aw-restaurants'},\n",
       " {'name': \"Applebee's\", 'slug': 'applebees'},\n",
       " {'name': \"Arby's\", 'slug': 'arbys'},\n",
       " {'name': 'Atlanta Bread Company', 'slug': 'atlanta-bread-company'}]"
      ]
     },
     "execution_count": 4,
     "metadata": {},
     "output_type": "execute_result"
    }
   ],
   "source": [
    "restaurants = []\n",
    "for restaurant in soup.find_all('a', 'btn btn-lg btn-primary'):\n",
    "    temp = {}\n",
    "    temp['name'] = restaurant.text\n",
    "    temp['slug'] = restaurant.attrs['href'].replace('/restaurants/', '')\n",
    "    restaurants.append(temp)\n",
    "restaurants [:4]"
   ]
  },
  {
   "cell_type": "markdown",
   "metadata": {},
   "source": [
    "### Step 3: Using the slug, scrape each restaurant's page and create a single list of food dictionaries.\n",
    "\n",
    "Your list of foods should look something like this:\n",
    "```python\n",
    "foods = [\n",
    "    {\n",
    "        'calories': '0',\n",
    "        'carbs': '0',\n",
    "        'category': 'Drinks',\n",
    "        'fat': '0',\n",
    "        'name': 'A&W® Diet Root Beer',\n",
    "        'restaurant': 'A&W Restaurants'\n",
    "    },\n",
    "    {\n",
    "        'calories': '0',\n",
    "        'carbs': '0',\n",
    "        'category': 'Drinks',\n",
    "        'fat': '0',\n",
    "        'name': 'A&W® Diet Root Beer',\n",
    "        'restaurant': 'A&W Restaurants'\n",
    "    },\n",
    "    ...\n",
    "]\n",
    "```\n",
    "\n",
    "**Note**: Remove extra white space from each category"
   ]
  },
  {
   "cell_type": "code",
   "execution_count": 5,
   "metadata": {},
   "outputs": [
    {
     "data": {
      "text/plain": [
       "['http://chubbygrub.com/restaurants/aw-restaurants',\n",
       " 'http://chubbygrub.com/restaurants/applebees',\n",
       " 'http://chubbygrub.com/restaurants/arbys']"
      ]
     },
     "execution_count": 5,
     "metadata": {},
     "output_type": "execute_result"
    }
   ],
   "source": [
    "urls = []\n",
    "for i in range(len(restaurants)):\n",
    "    url = 'http://chubbygrub.com/restaurants/' + restaurants[i]['slug']\n",
    "    urls.append(url)\n",
    "urls[:3]"
   ]
  },
  {
   "cell_type": "code",
   "execution_count": 6,
   "metadata": {},
   "outputs": [
    {
     "data": {
      "text/plain": [
       "{'name': 'A&W Restaurants', 'slug': 'aw-restaurants'}"
      ]
     },
     "execution_count": 6,
     "metadata": {},
     "output_type": "execute_result"
    }
   ],
   "source": [
    "restaurants[0]"
   ]
  },
  {
   "cell_type": "code",
   "execution_count": 7,
   "metadata": {},
   "outputs": [],
   "source": [
    "# for i in range(1):\n",
    "#     url = 'http://chubbygrub.com/restaurants/' + restaurants[i]['slug']\n",
    "#     response = requests.get(url)\n",
    "#     soup = BeautifulSoup(response.text, 'lxml')\n",
    "    \n",
    "#     temp = {}\n",
    "#     for item in soup.find_all('tr', {'itemtype': \"http://schema.org/NutritionInformation\"}):\n",
    "#         temp['calories'] = soup.find('td', {'itemprop': \"calories\"}).text\n",
    "#         temp['carbs'] = soup.find('td', {'itemprop': 'carbohydrateContent'}).text\n",
    "#         temp['category'] = soup.find('td', {'class': 'hidden-xs category-column'}).text.replace('\\n', '')\n",
    "#         temp['fat'] = soup.find('td', {'itemprop': 'fatContent'}).text\n",
    "#         temp['name'] = soup.find('td', {'itemprop': 'name'}).text\n",
    "#         temp['restaurant'] = restaurants[i]['name']\n",
    "#     print(temp)"
   ]
  },
  {
   "cell_type": "code",
   "execution_count": 8,
   "metadata": {},
   "outputs": [],
   "source": [
    "# foods = []\n",
    "# for i in restaurants:\n",
    "#     url = 'http://chubbygrub.com/restaurants/' + restaurants[i]['slug']\n",
    "#     response = requests.get(url)\n",
    "#     soup = BeautifulSoup(response.text, 'lxml')\n",
    "#     temp = {}\n",
    "#     temp['calories'] = [i.text for i in soup.find_all('td', {'itemprop': 'calories'})]\n",
    "#     temp['carbs'] = [i.text for i in soup.find_all('td', {'itemprop': 'carbohydrateContent'})]\n",
    "#     temp['cateogry'] = [i.text.replace('\\n', '') for i in soup.find_all('td', {'class': 'hidden-xs category-column'})]\n",
    "#     temp['fat'] = [i.text for i in soup.find_all('td', {'itemprop': 'fatContent'})]   \n",
    "#     temp['name'] = [i.text for i in soup.find_all('td', {'itemprop': 'name'})]\n",
    "#     foods.append(temp)"
   ]
  },
  {
   "cell_type": "code",
   "execution_count": 9,
   "metadata": {},
   "outputs": [],
   "source": [
    "calories = []\n",
    "carbs = []\n",
    "category = []\n",
    "fat = []\n",
    "name = []\n",
    "restaurant = []\n",
    "for url in urls:\n",
    "    response = requests.get(url)\n",
    "    soup = BeautifulSoup(response.text, 'lxml')\n",
    "    \n",
    "    for entry in soup.find_all('td', {'itemprop': 'calories'}):\n",
    "        calories.append(entry.text)\n",
    "    # calories = [i.text for i in soup.find_all('td', {'itemprop': 'calories'})]\n",
    "    \n",
    "    for entry in soup.find_all('td', {'itemprop': 'carbohydrateContent'}):\n",
    "        carbs.append(entry.text)\n",
    "        \n",
    "    for entry in soup.find_all('td', {'class': 'hidden-xs category-column'}):\n",
    "        category.append(entry.text.replace('\\n', ''))\n",
    "        \n",
    "    for entry in soup.find_all('td', {'itemprop': 'fatContent'}):\n",
    "        fat.append(entry.text)\n",
    "        \n",
    "    for entry in soup.find_all('td', {'itemprop': 'name'}):\n",
    "        name.append(entry.text)\n",
    "    \n",
    "        for entry in soup.find_all('title'):\n",
    "            restaurant.append(entry.text.replace(' Nutrition | Calories and Carbs from Your Favorite Restaurants | Chubbygrub', ''))"
   ]
  },
  {
   "cell_type": "code",
   "execution_count": 10,
   "metadata": {},
   "outputs": [
    {
     "data": {
      "text/plain": [
       "[{'calories': '220',\n",
       "  'carbs': '28',\n",
       "  'category': 'French Fries',\n",
       "  'fat': '11',\n",
       "  'name': 'Value French Fries',\n",
       "  'restaurant': \"Wendy's\"},\n",
       " {'calories': '220',\n",
       "  'carbs': '28',\n",
       "  'category': 'French Fries',\n",
       "  'fat': '11',\n",
       "  'name': 'Value French Fries',\n",
       "  'restaurant': \"Wendy's\"},\n",
       " {'calories': '290',\n",
       "  'carbs': '53',\n",
       "  'category': 'Shakes',\n",
       "  'fat': '6',\n",
       "  'name': 'Vanilla Frosty Waffle Cone',\n",
       "  'restaurant': \"Wendy's\"}]"
      ]
     },
     "execution_count": 10,
     "metadata": {},
     "output_type": "execute_result"
    }
   ],
   "source": [
    "foods = []\n",
    "for i in range(len(calories)):\n",
    "    new_dict = {'calories': calories[i],\n",
    "        'carbs': carbs[i],\n",
    "        'category': category[i],\n",
    "        'fat': fat[i],\n",
    "        'name': name[i],\n",
    "        'restaurant': restaurant[i]}\n",
    "    foods.append(new_dict)\n",
    "foods[-3:]"
   ]
  },
  {
   "cell_type": "markdown",
   "metadata": {},
   "source": [
    "### Step 4: Create a pandas DataFrame from your list of foods\n",
    "\n",
    "**Note**: Your DataFrame should have 4,977 rows"
   ]
  },
  {
   "cell_type": "code",
   "execution_count": 11,
   "metadata": {},
   "outputs": [],
   "source": [
    "# temp = {}\n",
    "# temp['calories'] = calories\n",
    "# temp['carbs'] = carbs\n",
    "# temp['category'] = category\n",
    "# temp['fat'] = fat\n",
    "# temp['name'] = name\n",
    "# temp['restaurant'] = restaurant\n",
    "# df = pd.DataFrame(temp)\n",
    "# df.head()"
   ]
  },
  {
   "cell_type": "code",
   "execution_count": 12,
   "metadata": {},
   "outputs": [
    {
     "data": {
      "text/html": [
       "<div>\n",
       "<style scoped>\n",
       "    .dataframe tbody tr th:only-of-type {\n",
       "        vertical-align: middle;\n",
       "    }\n",
       "\n",
       "    .dataframe tbody tr th {\n",
       "        vertical-align: top;\n",
       "    }\n",
       "\n",
       "    .dataframe thead th {\n",
       "        text-align: right;\n",
       "    }\n",
       "</style>\n",
       "<table border=\"1\" class=\"dataframe\">\n",
       "  <thead>\n",
       "    <tr style=\"text-align: right;\">\n",
       "      <th></th>\n",
       "      <th>calories</th>\n",
       "      <th>carbs</th>\n",
       "      <th>category</th>\n",
       "      <th>fat</th>\n",
       "      <th>name</th>\n",
       "      <th>restaurant</th>\n",
       "    </tr>\n",
       "  </thead>\n",
       "  <tbody>\n",
       "    <tr>\n",
       "      <th>0</th>\n",
       "      <td>0</td>\n",
       "      <td>0</td>\n",
       "      <td>Drinks</td>\n",
       "      <td>0</td>\n",
       "      <td>A&amp;W® Diet Root Beer</td>\n",
       "      <td>A&amp;W Restaurants</td>\n",
       "    </tr>\n",
       "    <tr>\n",
       "      <th>1</th>\n",
       "      <td>0</td>\n",
       "      <td>0</td>\n",
       "      <td>Drinks</td>\n",
       "      <td>0</td>\n",
       "      <td>A&amp;W® Diet Root Beer</td>\n",
       "      <td>A&amp;W Restaurants</td>\n",
       "    </tr>\n",
       "    <tr>\n",
       "      <th>2</th>\n",
       "      <td>0</td>\n",
       "      <td>0</td>\n",
       "      <td>Drinks</td>\n",
       "      <td>0</td>\n",
       "      <td>A&amp;W® Diet Root Beer</td>\n",
       "      <td>A&amp;W Restaurants</td>\n",
       "    </tr>\n",
       "    <tr>\n",
       "      <th>3</th>\n",
       "      <td>0</td>\n",
       "      <td>0</td>\n",
       "      <td>Drinks</td>\n",
       "      <td>0</td>\n",
       "      <td>A&amp;W® Diet Root Beer</td>\n",
       "      <td>A&amp;W Restaurants</td>\n",
       "    </tr>\n",
       "    <tr>\n",
       "      <th>4</th>\n",
       "      <td>0</td>\n",
       "      <td>0</td>\n",
       "      <td>Drinks</td>\n",
       "      <td>0</td>\n",
       "      <td>A&amp;W® Diet Root Beer</td>\n",
       "      <td>A&amp;W Restaurants</td>\n",
       "    </tr>\n",
       "  </tbody>\n",
       "</table>\n",
       "</div>"
      ],
      "text/plain": [
       "  calories carbs category fat                 name       restaurant\n",
       "0        0     0   Drinks   0  A&W® Diet Root Beer  A&W Restaurants\n",
       "1        0     0   Drinks   0  A&W® Diet Root Beer  A&W Restaurants\n",
       "2        0     0   Drinks   0  A&W® Diet Root Beer  A&W Restaurants\n",
       "3        0     0   Drinks   0  A&W® Diet Root Beer  A&W Restaurants\n",
       "4        0     0   Drinks   0  A&W® Diet Root Beer  A&W Restaurants"
      ]
     },
     "execution_count": 12,
     "metadata": {},
     "output_type": "execute_result"
    }
   ],
   "source": [
    "df_alt = pd.DataFrame(foods)\n",
    "df_alt.head()"
   ]
  },
  {
   "cell_type": "code",
   "execution_count": 13,
   "metadata": {},
   "outputs": [
    {
     "data": {
      "text/plain": [
       "(4977, 6)"
      ]
     },
     "execution_count": 13,
     "metadata": {},
     "output_type": "execute_result"
    }
   ],
   "source": [
    "df_alt.shape"
   ]
  },
  {
   "cell_type": "markdown",
   "metadata": {},
   "source": [
    "### Step 5: Export to csv\n",
    "\n",
    "**Note:** Don't export the index column from your DataFrame"
   ]
  },
  {
   "cell_type": "code",
   "execution_count": 14,
   "metadata": {},
   "outputs": [],
   "source": [
    "df_alt.to_csv('./df.csv', index=False)"
   ]
  },
  {
   "cell_type": "code",
   "execution_count": null,
   "metadata": {},
   "outputs": [],
   "source": []
  }
 ],
 "metadata": {
  "kernelspec": {
   "display_name": "Python 3",
   "language": "python",
   "name": "python3"
  },
  "language_info": {
   "codemirror_mode": {
    "name": "ipython",
    "version": 3
   },
   "file_extension": ".py",
   "mimetype": "text/x-python",
   "name": "python",
   "nbconvert_exporter": "python",
   "pygments_lexer": "ipython3",
   "version": "3.6.8"
  }
 },
 "nbformat": 4,
 "nbformat_minor": 2
}
